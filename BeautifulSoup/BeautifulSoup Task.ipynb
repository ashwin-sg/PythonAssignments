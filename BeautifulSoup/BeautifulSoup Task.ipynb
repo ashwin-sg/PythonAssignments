{
 "cells": [
  {
   "cell_type": "code",
   "execution_count": 1,
   "metadata": {},
   "outputs": [],
   "source": [
    "from bs4 import BeautifulSoup as bs\n",
    "import requests\n",
    "import pandas as pd"
   ]
  },
  {
   "cell_type": "code",
   "execution_count": 2,
   "metadata": {},
   "outputs": [],
   "source": [
    "# Since there are large number of pages available for this particular product category, I will restrict the search to 25 pages\n",
    "\n",
    "pages = list(range(1,25))\n",
    "\n",
    "model_name = []\n",
    "rating = []\n",
    "price = []\n",
    "\n",
    "for page in pages:\n",
    "      \n",
    "    url = \"https://www.flipkart.com/mobiles/pr?sid=tyy%2C4io&amp%3Botracker=categorytree&page=\"+str(page)\n",
    "    req = requests.get(url)\n",
    "    soup = bs(req.content, 'html.parser')\n",
    "    \n",
    "    names = soup.find_all('div', class_='_4rR01T')\n",
    "    for i in range(0,len(names)):\n",
    "        model_name.append(names[i].get_text())\n",
    "        \n",
    "    \n",
    "    rate = soup.find_all('div', class_='_3LWZlK')\n",
    "    for i in range(0,len(rate)):\n",
    "        rating.append(rate[i].get_text())\n",
    "        \n",
    "    \n",
    "    model_price = soup.find_all('div', class_='_30jeq3 _1_WHN1')\n",
    "    for i in range(0,len(model_price)):\n",
    "        price.append(model_price[i].get_text())\n",
    "        "
   ]
  },
  {
   "cell_type": "code",
   "execution_count": 3,
   "metadata": {},
   "outputs": [
    {
     "name": "stdout",
     "output_type": "stream",
     "text": [
      "576\n",
      "871\n",
      "576\n"
     ]
    }
   ],
   "source": [
    "print(len(model_name))\n",
    "print(len(rating))\n",
    "print(len(price))"
   ]
  },
  {
   "cell_type": "code",
   "execution_count": 4,
   "metadata": {},
   "outputs": [],
   "source": [
    "df = {'Model Name':model_name[slice(576)],'Rating':rating[slice(576)],'Price':price[slice(576)]}\n",
    "dataset = pd.DataFrame(data=df)"
   ]
  },
  {
   "cell_type": "code",
   "execution_count": 5,
   "metadata": {},
   "outputs": [
    {
     "data": {
      "text/html": [
       "<div>\n",
       "<style scoped>\n",
       "    .dataframe tbody tr th:only-of-type {\n",
       "        vertical-align: middle;\n",
       "    }\n",
       "\n",
       "    .dataframe tbody tr th {\n",
       "        vertical-align: top;\n",
       "    }\n",
       "\n",
       "    .dataframe thead th {\n",
       "        text-align: right;\n",
       "    }\n",
       "</style>\n",
       "<table border=\"1\" class=\"dataframe\">\n",
       "  <thead>\n",
       "    <tr style=\"text-align: right;\">\n",
       "      <th></th>\n",
       "      <th>Model Name</th>\n",
       "      <th>Rating</th>\n",
       "      <th>Price</th>\n",
       "    </tr>\n",
       "  </thead>\n",
       "  <tbody>\n",
       "    <tr>\n",
       "      <th>0</th>\n",
       "      <td>realme C11 (Rich Green, 32 GB)</td>\n",
       "      <td>4.4</td>\n",
       "      <td>₹6,999</td>\n",
       "    </tr>\n",
       "    <tr>\n",
       "      <th>1</th>\n",
       "      <td>realme C11 (Rich Grey, 32 GB)</td>\n",
       "      <td>4.4</td>\n",
       "      <td>₹6,999</td>\n",
       "    </tr>\n",
       "    <tr>\n",
       "      <th>2</th>\n",
       "      <td>REDMI 9i (Sea Blue, 64 GB)</td>\n",
       "      <td>4.3</td>\n",
       "      <td>₹7,999</td>\n",
       "    </tr>\n",
       "    <tr>\n",
       "      <th>3</th>\n",
       "      <td>anee Y1 Lite</td>\n",
       "      <td>4.3</td>\n",
       "      <td>₹690</td>\n",
       "    </tr>\n",
       "    <tr>\n",
       "      <th>4</th>\n",
       "      <td>POCO M3 (Power Black, 128 GB)</td>\n",
       "      <td>4.4</td>\n",
       "      <td>₹11,999</td>\n",
       "    </tr>\n",
       "  </tbody>\n",
       "</table>\n",
       "</div>"
      ],
      "text/plain": [
       "                       Model Name Rating    Price\n",
       "0  realme C11 (Rich Green, 32 GB)    4.4   ₹6,999\n",
       "1   realme C11 (Rich Grey, 32 GB)    4.4   ₹6,999\n",
       "2      REDMI 9i (Sea Blue, 64 GB)    4.3   ₹7,999\n",
       "3                    anee Y1 Lite    4.3     ₹690\n",
       "4   POCO M3 (Power Black, 128 GB)    4.4  ₹11,999"
      ]
     },
     "execution_count": 5,
     "metadata": {},
     "output_type": "execute_result"
    }
   ],
   "source": [
    "dataset.head()"
   ]
  },
  {
   "cell_type": "code",
   "execution_count": 6,
   "metadata": {},
   "outputs": [],
   "source": [
    "dataset.to_excel('Flipkart_data.xlsx')"
   ]
  },
  {
   "cell_type": "code",
   "execution_count": null,
   "metadata": {},
   "outputs": [],
   "source": []
  }
 ],
 "metadata": {
  "kernelspec": {
   "display_name": "Python 3",
   "language": "python",
   "name": "python3"
  },
  "language_info": {
   "codemirror_mode": {
    "name": "ipython",
    "version": 3
   },
   "file_extension": ".py",
   "mimetype": "text/x-python",
   "name": "python",
   "nbconvert_exporter": "python",
   "pygments_lexer": "ipython3",
   "version": "3.8.3"
  }
 },
 "nbformat": 4,
 "nbformat_minor": 4
}
